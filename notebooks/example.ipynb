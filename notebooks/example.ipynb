{
 "cells": [
  {
   "cell_type": "markdown",
   "metadata": {},
   "source": [
    "# Example Strategy/Backtest"
   ]
  },
  {
   "cell_type": "markdown",
   "metadata": {},
   "source": [
    "#### Imports"
   ]
  },
  {
   "cell_type": "code",
   "execution_count": 1,
   "metadata": {
    "collapsed": true
   },
   "outputs": [],
   "source": [
    "import os\n",
    "os.chdir('..')\n",
    "import tabulate\n",
    "import pandas as pd\n",
    "import numpy as np\n",
    "import datetime as dt\n",
    "import matplotlib.pyplot as plt\n",
    "import analytics.tears as tears\n",
    "from Queue import Queue\n",
    "from utils.stock import Stock\n",
    "from stock_backtest.data_handler import StockBacktestDataHandler\n",
    "from stock_backtest.execution_handler import StockBacktestExecutionHandler\n",
    "from stock_backtest.backtest import StockBacktest\n",
    "from strategies.buy_strategy import BuyStrategy\n",
    "import analytics.plotting as plot\n",
    "from analytics.plotting import plot_holdings"
   ]
  },
  {
   "cell_type": "markdown",
   "metadata": {},
   "source": [
    "## Run the backtest "
   ]
  },
  {
   "cell_type": "code",
   "execution_count": 2,
   "metadata": {
    "collapsed": false
   },
   "outputs": [
    {
     "name": "stdout",
     "output_type": "stream",
     "text": [
      "Running backtest with params:{'START': '1/1/2012 00:00', 'EXECUTION': 'StockBacktestExecutionHandler', 'END': '1/10/2016 00:00', 'STRATEGY': 'BuyStrategy'}\n"
     ]
    },
    {
     "data": {
      "text/plain": [
       "'foo'"
      ]
     },
     "execution_count": 2,
     "metadata": {},
     "output_type": "execute_result"
    }
   ],
   "source": [
    "events = Queue()\n",
    "products = [Stock('MSFT'), Stock('ORCL')]\n",
    "symbols = [product.symbol for product in products]\n",
    "start_date = dt.datetime(year=2012, month=1, day=1)\n",
    "end_date = dt.datetime(year=2016, month=1, day=10)\n",
    "data = StockBacktestDataHandler(events, symbols, start_date, end_date)\n",
    "execution = StockBacktestExecutionHandler(events)\n",
    "strategy = BuyStrategy(events, data, products, initial_cash=100000)\n",
    "backtest = StockBacktest(events, strategy, data, execution, start_date, end_date)\n",
    "backtest.run()"
   ]
  },
  {
   "cell_type": "code",
   "execution_count": null,
   "metadata": {
    "collapsed": true
   },
   "outputs": [],
   "source": [
    "# print tabulate.tabulate(strategy.time_series, headers='keys', tablefmt='pipe')\n",
    "# holdings_fig = plt.figure()\n",
    "# for i in range(len(symbols)):\n",
    "#     symbol = symbols[i]\n",
    "#     positions = pd.DataFrame(data=np.array([strategy.time_series[symbol+'_val'], strategy.time_series['cash']]).transpose(),\n",
    "#                              index=strategy.time_series.index,\n",
    "#                              columns=[symbol, 'cash'])\n",
    "#     ax = holdings_fig.add_subplot(len(symbols), 1, i+1)\n",
    "#     plot_holdings(strategy.time_series['returns'], positions, ax=ax)\n",
    "# plt.ioff()\n",
    "positions_cols = [product.symbol+'_val' for product in products] + ['cash']\n",
    "positions = pd.DataFrame(np.array([strategy.time_series[product.symbol+'_val'] for product in products]\n",
    "                         + [strategy.time_series['cash']]).transpose(), columns=positions_cols,\n",
    "                         index=strategy.time_series.index)\n",
    "positions_tear = tears.create_position_tear_sheet(strategy.time_series['returns'], positions, return_fig=True)\n",
    "returns_tear = tears.create_returns_tear_sheet(strategy.time_series['returns'], return_fig=True)"
   ]
  }
 ],
 "metadata": {
  "kernelspec": {
   "display_name": "Python 2",
   "language": "python",
   "name": "python2"
  },
  "language_info": {
   "codemirror_mode": {
    "name": "ipython",
    "version": 2
   },
   "file_extension": ".py",
   "mimetype": "text/x-python",
   "name": "python",
   "nbconvert_exporter": "python",
   "pygments_lexer": "ipython2",
   "version": "2.7.6"
  }
 },
 "nbformat": 4,
 "nbformat_minor": 0
}
